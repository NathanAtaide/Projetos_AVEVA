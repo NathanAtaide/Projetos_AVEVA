{
 "cells": [
  {
   "cell_type": "code",
   "execution_count": 20,
   "id": "6134b0c9",
   "metadata": {},
   "outputs": [],
   "source": [
    "#Importando bibliotecas a serem utilizadas\n",
    "import numpy as np\n",
    "import datetime\n",
    "import csv\n",
    "import time"
   ]
  },
  {
   "cell_type": "code",
   "execution_count": 21,
   "id": "8c121e9c",
   "metadata": {},
   "outputs": [],
   "source": [
    "#Definindo variáveis fixas que serão utilizadas para serem geradas valores aleatórios\n",
    "tags = ['Nivel_01.PV','Nivel_02.PV','Temperatura_01.PV', 'Temperatura_02.PV']"
   ]
  },
  {
   "cell_type": "code",
   "execution_count": 24,
   "id": "d0cebabc",
   "metadata": {},
   "outputs": [
    {
     "name": "stdout",
     "output_type": "stream",
     "text": [
      "Gerou um arquivo\n",
      "Gerou um arquivo\n",
      "Gerou um arquivo\n",
      "Gerou um arquivo\n",
      "Gerou um arquivo\n",
      "Gerou um arquivo\n",
      "Gerou um arquivo\n",
      "Gerou um arquivo\n",
      "Gerou um arquivo\n",
      "Gerou um arquivo\n",
      "Gerou um arquivo\n",
      "Gerou um arquivo\n",
      "Gerou um arquivo\n",
      "Gerou um arquivo\n",
      "Gerou um arquivo\n",
      "Gerou um arquivo\n",
      "Gerou um arquivo\n",
      "Gerou um arquivo\n",
      "Gerou um arquivo\n",
      "Gerou um arquivo\n",
      "Gerou um arquivo\n",
      "Gerou um arquivo\n",
      "Gerou um arquivo\n",
      "Gerou um arquivo\n"
     ]
    },
    {
     "ename": "KeyboardInterrupt",
     "evalue": "",
     "output_type": "error",
     "traceback": [
      "\u001b[1;31m---------------------------------------------------------------------------\u001b[0m",
      "\u001b[1;31mKeyboardInterrupt\u001b[0m                         Traceback (most recent call last)",
      "Cell \u001b[1;32mIn[24], line 27\u001b[0m\n\u001b[0;32m     24\u001b[0m     writer\u001b[38;5;241m.\u001b[39mwriterows(lista)\n\u001b[0;32m     26\u001b[0m \u001b[38;5;66;03m############Colocar caminho no nome do arquivo############\u001b[39;00m\n\u001b[1;32m---> 27\u001b[0m time\u001b[38;5;241m.\u001b[39msleep(\u001b[38;5;241m1\u001b[39m)\n\u001b[0;32m     29\u001b[0m \u001b[38;5;28mprint\u001b[39m(\u001b[38;5;124m\"\u001b[39m\u001b[38;5;124mGerou um arquivo\u001b[39m\u001b[38;5;124m\"\u001b[39m)\n",
      "\u001b[1;31mKeyboardInterrupt\u001b[0m: "
     ]
    }
   ],
   "source": [
    "\n",
    "while True: \n",
    "#Define variáveis dentro do loop para atualizarem seus valores e também receberem valores novos\n",
    "    atual = datetime.datetime.now()\n",
    "    lista = [\n",
    "        ['ASCII'],\n",
    "        ['student',1,'Server Local',1,1]]\n",
    "\n",
    "    #Define um valor aleatório para cada tipo de variável para cada range específico\n",
    "    for i in tags:  \n",
    "        if 'Nivel' in str(i):\n",
    "            valor = np.random.randint(0,100)   \n",
    "        elif 'Temperatura' in str(i):\n",
    "            valor = np.random.randint(100,130)\n",
    "\n",
    "        #Gera uma lista temporária para gerar uma nova linha no csv e a coloca na lista global    \n",
    "        Lista_Temporaria = [i,0,str(datetime.date.today()).replace('-','/'),str(atual.strftime(\"%H:%M:%S.%f\")),1,str(valor),192]\n",
    "        lista.append(Lista_Temporaria)\n",
    "\n",
    "    #Escrevendo em um arquivo CSV\n",
    "    with open('dados.csv', 'w', newline='') as f:\n",
    "        writer = csv.writer(f)\n",
    "\n",
    "        # Escreve todas as linhas\n",
    "        writer.writerows(lista)\n",
    "\n",
    "    ############Colocar caminho no nome do arquivo############\n",
    "    time.sleep(1)\n",
    "\n",
    "    print(\"Gerou um arquivo\")\n"
   ]
  },
  {
   "cell_type": "code",
   "execution_count": 17,
   "id": "f5a85e92",
   "metadata": {},
   "outputs": [],
   "source": [
    "\n",
    "    "
   ]
  }
 ],
 "metadata": {
  "kernelspec": {
   "display_name": "Python 3 (ipykernel)",
   "language": "python",
   "name": "python3"
  },
  "language_info": {
   "codemirror_mode": {
    "name": "ipython",
    "version": 3
   },
   "file_extension": ".py",
   "mimetype": "text/x-python",
   "name": "python",
   "nbconvert_exporter": "python",
   "pygments_lexer": "ipython3",
   "version": "3.11.5"
  }
 },
 "nbformat": 4,
 "nbformat_minor": 5
}
