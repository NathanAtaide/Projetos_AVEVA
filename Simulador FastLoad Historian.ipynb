{
 "cells": [
  {
   "cell_type": "code",
   "execution_count": 2,
   "id": "6134b0c9",
   "metadata": {},
   "outputs": [],
   "source": [
    "#Importando bibliotecas a serem utilizadas\n",
    "import numpy as np\n",
    "import datetime\n",
    "import csv\n",
    "import time"
   ]
  },
  {
   "cell_type": "code",
   "execution_count": 3,
   "id": "8c121e9c",
   "metadata": {},
   "outputs": [],
   "source": [
    "#Definindo variáveis fixas que serão utilizadas para serem geradas valores aleatórios\n",
    "tags = ['Nivel_01.PV','Nivel_02.PV','Temperatura_01.PV', 'Temperatura_02.PV']"
   ]
  },
  {
   "cell_type": "code",
   "execution_count": null,
   "id": "d0cebabc",
   "metadata": {},
   "outputs": [],
   "source": [
    "\n",
    "while True: \n",
    "#Define variáveis dentro do loop para atualizarem seus valores e também receberem valores novos\n",
    "    atual = datetime.datetime.now()\n",
    "    lista = [\n",
    "        ['ASCII'],\n",
    "        ['student',1,'Server Local',1,1]]\n",
    "\n",
    "    #Define um valor aleatório para cada tipo de variável para cada range específico\n",
    "    for i in tags:  \n",
    "        if 'Nivel' in str(i):\n",
    "            valor = np.random.randint(0,100)   \n",
    "        elif 'Temperatura' in str(i):\n",
    "            valor = np.random.randint(100,130)\n",
    "\n",
    "        #Gera uma lista temporária para gerar uma nova linha no csv e a coloca na lista global    \n",
    "        Lista_Temporaria = [i,0,str(datetime.date.today()).replace('-','/'),str(atual.strftime(\"%H:%M:%S.%f\")),1,str(valor),192]\n",
    "        lista.append(Lista_Temporaria)\n",
    "\n",
    "    #Escrevendo em um arquivo CSV\n",
    "    with open('dados.csv', 'w', newline='') as f:\n",
    "        writer = csv.writer(f)\n",
    "\n",
    "        # Escreve todas as linhas\n",
    "        writer.writerows(lista)\n",
    "\n",
    "    ############Colocar caminho no nome do arquivo############\n",
    "    time.sleep(1)\n",
    "\n"
   ]
  },
  {
   "cell_type": "code",
   "execution_count": 17,
   "id": "f5a85e92",
   "metadata": {},
   "outputs": [],
   "source": [
    "\n",
    "    "
   ]
  }
 ],
 "metadata": {
  "kernelspec": {
   "display_name": "Python 3 (ipykernel)",
   "language": "python",
   "name": "python3"
  },
  "language_info": {
   "codemirror_mode": {
    "name": "ipython",
    "version": 3
   },
   "file_extension": ".py",
   "mimetype": "text/x-python",
   "name": "python",
   "nbconvert_exporter": "python",
   "pygments_lexer": "ipython3",
   "version": "3.11.5"
  }
 },
 "nbformat": 4,
 "nbformat_minor": 5
}
